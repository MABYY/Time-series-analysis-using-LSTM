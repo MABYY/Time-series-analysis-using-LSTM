{
 "cells": [
  {
   "cell_type": "markdown",
   "metadata": {},
   "source": [
    "### Time series analysis using LSTM"
   ]
  },
  {
   "cell_type": "markdown",
   "metadata": {},
   "source": [
    "With the help of an LSTM network, we will try to predict the future prices of Bitcoin. In order to do this, we used data a based on its price of the past 9 years and calculated technical analysis indicators. The historical data can be accessed by installing yfinance library (https://pypi.org/project/yfinance/)."
   ]
  },
  {
   "cell_type": "markdown",
   "metadata": {
    "id": "zt07tQEO4kVP"
   },
   "source": [
    "In time series problems, we have to predict (forecast) a value at day (time) T, based on the data from N days before, starting at day T-N.  We will try predicting the adjusted close stock price of BTC based on the past N=60 days. One could try different values of N and see how precision of the forecasting algorithm changes with the length of the interval. \n",
    "\n",
    "We start feature exploration with a simple univariate model, then gradually add more predictors into the model. We use RMSE test score and validation error to compare different models and their performance.  "
   ]
  },
  {
   "cell_type": "code",
   "execution_count": 1,
   "metadata": {
    "id": "tKCXsJZjtsvG"
   },
   "outputs": [],
   "source": [
    "import numpy as np  \n",
    "import pandas as pd  \n",
    "from sklearn.preprocessing import MinMaxScaler  \n",
    "\n",
    "import tensorflow as tf\n",
    "from tensorflow import keras\n",
    "from tensorflow.keras.models import Sequential  \n",
    "from tensorflow.keras.layers import Dense  \n",
    "from tensorflow.keras.layers import LSTM  \n",
    "from tensorflow.keras.layers import Dropout  \n",
    "import matplotlib.pyplot as plt\n",
    "from sklearn.metrics import mean_squared_error"
   ]
  },
  {
   "cell_type": "code",
   "execution_count": 2,
   "metadata": {},
   "outputs": [],
   "source": [
    "# import pandas_datareader.data as web\n",
    "import datetime as dt\n",
    "import yfinance as yf\n",
    "from varname import nameof"
   ]
  },
  {
   "cell_type": "code",
   "execution_count": 3,
   "metadata": {},
   "outputs": [],
   "source": [
    "def webdata(stock):\n",
    "        start = dt.date(2011,6,1)\n",
    "        end = dt.date(2020,12,5)\n",
    "        df = yf.download(stock,start=start, end=end, progress=False)\n",
    "        df.reset_index(inplace=True)\n",
    "        return  df"
   ]
  },
  {
   "cell_type": "code",
   "execution_count": 4,
   "metadata": {},
   "outputs": [],
   "source": [
    "def plot_loss_hist(hist):\n",
    "    loss = hist.history['loss']\n",
    "    vloss = hist.history['val_loss']\n",
    "    epochs = range(1, len(loss) + 1)\n",
    "    plt.plot(epochs, loss, 'bo', label='Training loss')\n",
    "    plt.plot(epochs, vloss, 'b', label='Validation loss')\n",
    "    plt.title('Loss plot')\n",
    "    plt.xlabel('Epochs')\n",
    "    plt.ylabel('Loss')\n",
    "    plt.legend()\n",
    "    plt.show()"
   ]
  },
  {
   "cell_type": "code",
   "execution_count": 5,
   "metadata": {},
   "outputs": [
    {
     "data": {
      "text/html": [
       "<div>\n",
       "<style scoped>\n",
       "    .dataframe tbody tr th:only-of-type {\n",
       "        vertical-align: middle;\n",
       "    }\n",
       "\n",
       "    .dataframe tbody tr th {\n",
       "        vertical-align: top;\n",
       "    }\n",
       "\n",
       "    .dataframe thead th {\n",
       "        text-align: right;\n",
       "    }\n",
       "</style>\n",
       "<table border=\"1\" class=\"dataframe\">\n",
       "  <thead>\n",
       "    <tr style=\"text-align: right;\">\n",
       "      <th></th>\n",
       "      <th>Date</th>\n",
       "      <th>Open</th>\n",
       "      <th>High</th>\n",
       "      <th>Low</th>\n",
       "      <th>Close</th>\n",
       "      <th>Adj Close</th>\n",
       "      <th>Volume</th>\n",
       "    </tr>\n",
       "  </thead>\n",
       "  <tbody>\n",
       "    <tr>\n",
       "      <th>2263</th>\n",
       "      <td>2020-12-01</td>\n",
       "      <td>19633.769531</td>\n",
       "      <td>19845.974609</td>\n",
       "      <td>18321.921875</td>\n",
       "      <td>18802.998047</td>\n",
       "      <td>18802.998047</td>\n",
       "      <td>49633658712</td>\n",
       "    </tr>\n",
       "    <tr>\n",
       "      <th>2264</th>\n",
       "      <td>2020-12-02</td>\n",
       "      <td>18801.744141</td>\n",
       "      <td>19308.330078</td>\n",
       "      <td>18347.718750</td>\n",
       "      <td>19201.091797</td>\n",
       "      <td>19201.091797</td>\n",
       "      <td>37387697139</td>\n",
       "    </tr>\n",
       "    <tr>\n",
       "      <th>2265</th>\n",
       "      <td>2020-12-03</td>\n",
       "      <td>19205.925781</td>\n",
       "      <td>19566.191406</td>\n",
       "      <td>18925.785156</td>\n",
       "      <td>19445.398438</td>\n",
       "      <td>19445.398438</td>\n",
       "      <td>31930317405</td>\n",
       "    </tr>\n",
       "    <tr>\n",
       "      <th>2266</th>\n",
       "      <td>2020-12-04</td>\n",
       "      <td>19446.966797</td>\n",
       "      <td>19511.404297</td>\n",
       "      <td>18697.193359</td>\n",
       "      <td>18699.765625</td>\n",
       "      <td>18699.765625</td>\n",
       "      <td>33872388058</td>\n",
       "    </tr>\n",
       "    <tr>\n",
       "      <th>2267</th>\n",
       "      <td>2020-12-05</td>\n",
       "      <td>18698.384766</td>\n",
       "      <td>19160.449219</td>\n",
       "      <td>18590.193359</td>\n",
       "      <td>19154.230469</td>\n",
       "      <td>19154.230469</td>\n",
       "      <td>27242455064</td>\n",
       "    </tr>\n",
       "  </tbody>\n",
       "</table>\n",
       "</div>"
      ],
      "text/plain": [
       "           Date          Open          High           Low         Close  \\\n",
       "2263 2020-12-01  19633.769531  19845.974609  18321.921875  18802.998047   \n",
       "2264 2020-12-02  18801.744141  19308.330078  18347.718750  19201.091797   \n",
       "2265 2020-12-03  19205.925781  19566.191406  18925.785156  19445.398438   \n",
       "2266 2020-12-04  19446.966797  19511.404297  18697.193359  18699.765625   \n",
       "2267 2020-12-05  18698.384766  19160.449219  18590.193359  19154.230469   \n",
       "\n",
       "         Adj Close       Volume  \n",
       "2263  18802.998047  49633658712  \n",
       "2264  19201.091797  37387697139  \n",
       "2265  19445.398438  31930317405  \n",
       "2266  18699.765625  33872388058  \n",
       "2267  19154.230469  27242455064  "
      ]
     },
     "execution_count": 5,
     "metadata": {},
     "output_type": "execute_result"
    }
   ],
   "source": [
    "df_com = webdata('BTC-USD')\n",
    "df_com.tail()"
   ]
  },
  {
   "cell_type": "code",
   "execution_count": 6,
   "metadata": {
    "colab": {
     "base_uri": "https://localhost:8080/"
    },
    "id": "8P33csWrwMLW",
    "outputId": "c31f134b-2919-427d-c0a7-f2b1a7c9247a"
   },
   "outputs": [
    {
     "data": {
      "text/plain": [
       "(2268, 7)"
      ]
     },
     "execution_count": 6,
     "metadata": {},
     "output_type": "execute_result"
    }
   ],
   "source": [
    "df_com['Date'] = pd.to_datetime(df_com['Date'])\n",
    "df_com.shape"
   ]
  },
  {
   "cell_type": "markdown",
   "metadata": {},
   "source": [
    "Before feeding the neural network, we need to normilize the data. We will use SciKit-Learn `MinMaxScaler` from `sklearn.preprocessing` libary. All values of the `Open` price will be scaled into the interval between 0 and 1."
   ]
  },
  {
   "cell_type": "code",
   "execution_count": 7,
   "metadata": {
    "id": "3prUy4mPlOPr"
   },
   "outputs": [],
   "source": [
    "scaler = MinMaxScaler(feature_range = (0, 1))"
   ]
  },
  {
   "cell_type": "markdown",
   "metadata": {
    "id": "hQ6DKzXz_3xc"
   },
   "source": [
    "# Simple LSTM Model"
   ]
  },
  {
   "cell_type": "code",
   "execution_count": 8,
   "metadata": {
    "colab": {
     "base_uri": "https://localhost:8080/",
     "height": 166
    },
    "id": "dlugWqNRdrla",
    "outputId": "b8ab190a-a446-42f2-9d4e-f471864afbef"
   },
   "outputs": [
    {
     "data": {
      "text/html": [
       "<div>\n",
       "<style scoped>\n",
       "    .dataframe tbody tr th:only-of-type {\n",
       "        vertical-align: middle;\n",
       "    }\n",
       "\n",
       "    .dataframe tbody tr th {\n",
       "        vertical-align: top;\n",
       "    }\n",
       "\n",
       "    .dataframe thead th {\n",
       "        text-align: right;\n",
       "    }\n",
       "</style>\n",
       "<table border=\"1\" class=\"dataframe\">\n",
       "  <thead>\n",
       "    <tr style=\"text-align: right;\">\n",
       "      <th></th>\n",
       "      <th>Date</th>\n",
       "      <th>Adj Close</th>\n",
       "    </tr>\n",
       "  </thead>\n",
       "  <tbody>\n",
       "    <tr>\n",
       "      <th>0</th>\n",
       "      <td>2014-09-17</td>\n",
       "      <td>457.334015</td>\n",
       "    </tr>\n",
       "    <tr>\n",
       "      <th>1</th>\n",
       "      <td>2014-09-18</td>\n",
       "      <td>424.440002</td>\n",
       "    </tr>\n",
       "    <tr>\n",
       "      <th>2</th>\n",
       "      <td>2014-09-19</td>\n",
       "      <td>394.795990</td>\n",
       "    </tr>\n",
       "    <tr>\n",
       "      <th>3</th>\n",
       "      <td>2014-09-20</td>\n",
       "      <td>408.903992</td>\n",
       "    </tr>\n",
       "    <tr>\n",
       "      <th>4</th>\n",
       "      <td>2014-09-21</td>\n",
       "      <td>398.821014</td>\n",
       "    </tr>\n",
       "  </tbody>\n",
       "</table>\n",
       "</div>"
      ],
      "text/plain": [
       "        Date   Adj Close\n",
       "0 2014-09-17  457.334015\n",
       "1 2014-09-18  424.440002\n",
       "2 2014-09-19  394.795990\n",
       "3 2014-09-20  408.903992\n",
       "4 2014-09-21  398.821014"
      ]
     },
     "execution_count": 8,
     "metadata": {},
     "output_type": "execute_result"
    }
   ],
   "source": [
    "df = df_com.iloc[:,[0,5]]\n",
    "df.head()"
   ]
  },
  {
   "cell_type": "code",
   "execution_count": 9,
   "metadata": {},
   "outputs": [
    {
     "data": {
      "text/plain": [
       "(2268, 2)"
      ]
     },
     "execution_count": 9,
     "metadata": {},
     "output_type": "execute_result"
    }
   ],
   "source": [
    "df.shape"
   ]
  },
  {
   "cell_type": "code",
   "execution_count": 10,
   "metadata": {
    "colab": {
     "base_uri": "https://localhost:8080/"
    },
    "id": "C-ETcGohlCbn",
    "outputId": "f82edc44-2d27-4153-df89-f5d06b75932c"
   },
   "outputs": [
    {
     "name": "stdout",
     "output_type": "stream",
     "text": [
      "(2081, 2)\n",
      "(110, 7)\n",
      "(74, 7)\n"
     ]
    }
   ],
   "source": [
    "df_train = df[ (df['Date'] >= '2014-09-17') & (df['Date'] <= '2020-05-29')]\n",
    "df_train\n",
    "\n",
    "df_val = df_com[ (df['Date'] >= '2020-06-01') & (df['Date'] <= '2020-09-18')]\n",
    "df_val\n",
    "df_test = df_com[ (df['Date'] >= '2020-09-19') & (df['Date'] <= '2020-12-04')]\n",
    "print (df_train.shape)\n",
    "print (df_val.shape)\n",
    "print (df_test.shape)"
   ]
  },
  {
   "cell_type": "markdown",
   "metadata": {},
   "source": [
    "We will now create two lists: `feature_set` and `labels`. \n",
    "\n",
    "1- We execute a loop that starts from 61st record and stores all the previous 60 records to the `feature_set` list. The 61st record is stored in the `labels` list and so on. \n",
    "\n",
    "2- We then need to convert both the feature_set and the labels lists to the numpy arrays before we can use them for training.\n",
    "\n",
    "3 - Last but not least, in order to train our LSTM model we need to convert our data into the three-dimensional shape accepted by the LSTM. The first dimension is the number of records or rows in the dataset which is 2021 in our case. The second dimension is the number of time steps which is 60. The last dimension is the number of indicators (labels). Since we are only using one value, i.e. column `Adj Close`, the number of indicators is 1 (one). "
   ]
  },
  {
   "cell_type": "code",
   "execution_count": 11,
   "metadata": {
    "id": "LBknGtbhlzGE"
   },
   "outputs": [],
   "source": [
    "time_steps = 60\n",
    "\n",
    "def to_seq(df):\n",
    "    df_sel = df.iloc[:, 1:2].values \n",
    "    df_scaled = scaler.fit_transform(df_sel)  # Normalize data\n",
    "\n",
    "    features_set = []  \n",
    "    labels = []  \n",
    "    for i in range(time_steps, len(df_scaled)):  \n",
    "        features_set.append(df_scaled[i-time_steps:i])\n",
    "        labels.append(df_scaled[i, 0])\n",
    "        \n",
    "    features_set, labels = np.array(features_set), np.array(labels)  \n",
    "    \n",
    "    features_set = np.reshape(features_set, (features_set.shape[0], features_set.shape[1], 1))   \n",
    "    return features_set,labels"
   ]
  },
  {
   "cell_type": "code",
   "execution_count": 12,
   "metadata": {
    "colab": {
     "base_uri": "https://localhost:8080/"
    },
    "id": "4GbIN5lbrAl5",
    "outputId": "12147755-7c16-4841-9850-b49e86e3c8f6"
   },
   "outputs": [
    {
     "name": "stdout",
     "output_type": "stream",
     "text": [
      "(2021, 60, 1)\n",
      "(50, 60, 1)\n"
     ]
    }
   ],
   "source": [
    "x_train, y_train = to_seq(df_train)\n",
    "x_val, y_val = to_seq(df_val)\n",
    "print(x_train.shape)\n",
    "print(x_val.shape)"
   ]
  },
  {
   "cell_type": "code",
   "execution_count": 13,
   "metadata": {},
   "outputs": [
    {
     "data": {
      "text/html": [
       "<div>\n",
       "<style scoped>\n",
       "    .dataframe tbody tr th:only-of-type {\n",
       "        vertical-align: middle;\n",
       "    }\n",
       "\n",
       "    .dataframe tbody tr th {\n",
       "        vertical-align: top;\n",
       "    }\n",
       "\n",
       "    .dataframe thead th {\n",
       "        text-align: right;\n",
       "    }\n",
       "</style>\n",
       "<table border=\"1\" class=\"dataframe\">\n",
       "  <thead>\n",
       "    <tr style=\"text-align: right;\">\n",
       "      <th></th>\n",
       "      <th>Date</th>\n",
       "      <th>Adj Close</th>\n",
       "    </tr>\n",
       "  </thead>\n",
       "  <tbody>\n",
       "    <tr>\n",
       "      <th>0</th>\n",
       "      <td>2014-09-17</td>\n",
       "      <td>457.334015</td>\n",
       "    </tr>\n",
       "    <tr>\n",
       "      <th>1</th>\n",
       "      <td>2014-09-18</td>\n",
       "      <td>424.440002</td>\n",
       "    </tr>\n",
       "    <tr>\n",
       "      <th>2</th>\n",
       "      <td>2014-09-19</td>\n",
       "      <td>394.795990</td>\n",
       "    </tr>\n",
       "    <tr>\n",
       "      <th>3</th>\n",
       "      <td>2014-09-20</td>\n",
       "      <td>408.903992</td>\n",
       "    </tr>\n",
       "    <tr>\n",
       "      <th>4</th>\n",
       "      <td>2014-09-21</td>\n",
       "      <td>398.821014</td>\n",
       "    </tr>\n",
       "  </tbody>\n",
       "</table>\n",
       "</div>"
      ],
      "text/plain": [
       "        Date   Adj Close\n",
       "0 2014-09-17  457.334015\n",
       "1 2014-09-18  424.440002\n",
       "2 2014-09-19  394.795990\n",
       "3 2014-09-20  408.903992\n",
       "4 2014-09-21  398.821014"
      ]
     },
     "execution_count": 13,
     "metadata": {},
     "output_type": "execute_result"
    }
   ],
   "source": [
    "df_train.head()"
   ]
  },
  {
   "cell_type": "markdown",
   "metadata": {},
   "source": [
    "## Build and train the LSTM model\n",
    "In order to train the model we will use tf.Keras API. The LSTM model we will create is sequential model with multiple layers. We will use four LSTM layers followed by a Dense layer that predicts the future price."
   ]
  },
  {
   "cell_type": "markdown",
   "metadata": {},
   "source": [
    "As a first step, we need to instantiate the Sequential class. This is our model class and we will add LSTM, Dropout and Dense layers to this model. \n",
    "\n",
    "The first parameter to the LSTM layer is the number of neurons or nodes that we want in the layer. The first parameter to the `input_shape` is the number of time steps while the last parameter is the number of indicators.\n",
    "\n",
    "The second parameter is `return_sequences`, which is set to `True`. We are adding more LSTM layers to the model and every subsequent LSTM layer needs information about all outputs of all cells for every element of the input sequence. \n",
    "\n",
    "Parameter `return_sequences`=`True`: `Boolean` tells the cell whether to return the last output in the output sequence (`False`), or the full sequence (`True`). When `return_sequences=True` the cell returns the hidden state output for each input time step. When stacking LSTM layers, you must set `return_sequnce` to `True`\n",
    "\n",
    "We are leaving \n",
    "`unroll=False`: `Boolean` (default `False`). If `True`, the network will be unrolled, else a symbolic loop will be used. Unrolling can speed-up an RNN or LSTM, although it tends to be more memory-intensive. Unrolling is only suitable for short sequences.\n",
    "\n",
    "In order to avoid over-fitting, we will add Dropout layers.\n",
    "\n",
    "The number of neurons, units = 96, in every LSTM subcell.\n",
    "\n",
    "To make our model more robust, we add a dense layer at the end of the model. The number of neurons in the dense layer will be set to 1 since we want to predict a single value."
   ]
  },
  {
   "cell_type": "code",
   "execution_count": 14,
   "metadata": {
    "colab": {
     "base_uri": "https://localhost:8080/"
    },
    "id": "oJsFwiXCrSRw",
    "outputId": "30d60b56-c592-4116-9066-eb4ea5bdb717"
   },
   "outputs": [
    {
     "name": "stdout",
     "output_type": "stream",
     "text": [
      "Model: \"sequential\"\n",
      "_________________________________________________________________\n",
      "Layer (type)                 Output Shape              Param #   \n",
      "=================================================================\n",
      "lstm (LSTM)                  (None, 60, 96)            37632     \n",
      "_________________________________________________________________\n",
      "dropout (Dropout)            (None, 60, 96)            0         \n",
      "_________________________________________________________________\n",
      "lstm_1 (LSTM)                (None, 60, 96)            74112     \n",
      "_________________________________________________________________\n",
      "dropout_1 (Dropout)          (None, 60, 96)            0         \n",
      "_________________________________________________________________\n",
      "lstm_2 (LSTM)                (None, 60, 96)            74112     \n",
      "_________________________________________________________________\n",
      "dropout_2 (Dropout)          (None, 60, 96)            0         \n",
      "_________________________________________________________________\n",
      "lstm_3 (LSTM)                (None, 96)                74112     \n",
      "_________________________________________________________________\n",
      "dropout_3 (Dropout)          (None, 96)                0         \n",
      "_________________________________________________________________\n",
      "dense (Dense)                (None, 1)                 97        \n",
      "=================================================================\n",
      "Total params: 260,065\n",
      "Trainable params: 260,065\n",
      "Non-trainable params: 0\n",
      "_________________________________________________________________\n"
     ]
    }
   ],
   "source": [
    "model = Sequential()  \n",
    "model.add(LSTM(units=96, return_sequences=True, input_shape=(time_steps, 1),unroll=False)) \n",
    "model.add(Dropout(0.2))  \n",
    "model.add(LSTM(units=96, return_sequences=True))  \n",
    "model.add(Dropout(0.2))\n",
    "\n",
    "model.add(LSTM(units=96, return_sequences=True))  \n",
    "model.add(Dropout(0.2))\n",
    "\n",
    "model.add(LSTM(units=96))  \n",
    "model.add(Dropout(0.2))  \n",
    "model.add(Dense(units = 1))  \n",
    "model.summary()"
   ]
  },
  {
   "cell_type": "markdown",
   "metadata": {},
   "source": [
    "Finally, we need to compile our LSTM model before we can train it on the training data. We then train train the model by calling the `fit` method on the model."
   ]
  },
  {
   "cell_type": "code",
   "execution_count": 15,
   "metadata": {
    "colab": {
     "base_uri": "https://localhost:8080/"
    },
    "id": "XME2KxT-sgXr",
    "outputId": "a55300fb-7fa3-41dc-d576-efdb7265f37c"
   },
   "outputs": [
    {
     "name": "stdout",
     "output_type": "stream",
     "text": [
      "Epoch 1/100\n",
      "64/64 [==============================] - 13s 121ms/step - loss: 0.0184 - val_loss: 0.0831\n",
      "Epoch 2/100\n",
      "64/64 [==============================] - 6s 92ms/step - loss: 0.0026 - val_loss: 0.0598\n",
      "Epoch 3/100\n",
      "64/64 [==============================] - 6s 93ms/step - loss: 0.0020 - val_loss: 0.0484\n",
      "Epoch 4/100\n",
      "64/64 [==============================] - 6s 92ms/step - loss: 0.0020 - val_loss: 0.0374\n",
      "Epoch 5/100\n",
      "64/64 [==============================] - 6s 91ms/step - loss: 0.0017 - val_loss: 0.0332\n",
      "Epoch 6/100\n",
      "64/64 [==============================] - 6s 92ms/step - loss: 0.0018 - val_loss: 0.0311\n",
      "Epoch 7/100\n",
      "64/64 [==============================] - 6s 101ms/step - loss: 0.0014 - val_loss: 0.0337\n",
      "Epoch 8/100\n",
      "64/64 [==============================] - 6s 98ms/step - loss: 0.0015 - val_loss: 0.0267\n",
      "Epoch 9/100\n",
      "64/64 [==============================] - 6s 97ms/step - loss: 0.0019 - val_loss: 0.0249\n",
      "Epoch 10/100\n",
      "64/64 [==============================] - 6s 98ms/step - loss: 0.0013 - val_loss: 0.0240\n",
      "Epoch 11/100\n",
      "64/64 [==============================] - 6s 98ms/step - loss: 0.0014 - val_loss: 0.0252\n",
      "Epoch 12/100\n",
      "64/64 [==============================] - 6s 99ms/step - loss: 0.0018 - val_loss: 0.0231\n",
      "Epoch 13/100\n",
      "64/64 [==============================] - 6s 99ms/step - loss: 0.0011 - val_loss: 0.0215\n",
      "Epoch 14/100\n",
      "64/64 [==============================] - 6s 99ms/step - loss: 0.0011 - val_loss: 0.0214\n",
      "Epoch 15/100\n",
      "64/64 [==============================] - 6s 99ms/step - loss: 0.0011 - val_loss: 0.0180\n",
      "Epoch 16/100\n",
      "64/64 [==============================] - 6s 99ms/step - loss: 0.0011 - val_loss: 0.0204\n",
      "Epoch 17/100\n",
      "64/64 [==============================] - 6s 99ms/step - loss: 0.0015 - val_loss: 0.0167\n",
      "Epoch 18/100\n",
      "64/64 [==============================] - 6s 99ms/step - loss: 0.0010 - val_loss: 0.0159\n",
      "Epoch 19/100\n",
      "64/64 [==============================] - 6s 99ms/step - loss: 9.1901e-04 - val_loss: 0.0152\n",
      "Epoch 20/100\n",
      "64/64 [==============================] - 6s 100ms/step - loss: 0.0011 - val_loss: 0.0157\n",
      "Epoch 21/100\n",
      "64/64 [==============================] - 6s 100ms/step - loss: 0.0011 - val_loss: 0.0131\n",
      "Epoch 22/100\n",
      "64/64 [==============================] - 6s 100ms/step - loss: 0.0011 - val_loss: 0.0135\n",
      "Epoch 23/100\n",
      "64/64 [==============================] - 6s 100ms/step - loss: 9.0837e-04 - val_loss: 0.0202\n",
      "Epoch 24/100\n",
      "64/64 [==============================] - 6s 100ms/step - loss: 0.0011 - val_loss: 0.0121\n",
      "Epoch 25/100\n",
      "64/64 [==============================] - 6s 100ms/step - loss: 8.2183e-04 - val_loss: 0.0117\n",
      "Epoch 26/100\n",
      "64/64 [==============================] - 7s 104ms/step - loss: 8.4020e-04 - val_loss: 0.0118\n",
      "Epoch 27/100\n",
      "64/64 [==============================] - 6s 99ms/step - loss: 9.8150e-04 - val_loss: 0.0150\n",
      "Epoch 28/100\n",
      "64/64 [==============================] - 6s 99ms/step - loss: 0.0017 - val_loss: 0.0104\n",
      "Epoch 29/100\n",
      "64/64 [==============================] - 6s 99ms/step - loss: 6.9839e-04 - val_loss: 0.0100\n",
      "Epoch 30/100\n",
      "64/64 [==============================] - 6s 99ms/step - loss: 7.1311e-04 - val_loss: 0.0093\n",
      "Epoch 31/100\n",
      "64/64 [==============================] - 6s 100ms/step - loss: 8.2266e-04 - val_loss: 0.0093\n",
      "Epoch 32/100\n",
      "64/64 [==============================] - 6s 99ms/step - loss: 0.0011 - val_loss: 0.0097\n",
      "Epoch 33/100\n",
      "64/64 [==============================] - 6s 99ms/step - loss: 8.2960e-04 - val_loss: 0.0102\n",
      "Epoch 34/100\n",
      "64/64 [==============================] - 6s 100ms/step - loss: 8.5919e-04 - val_loss: 0.0095\n",
      "Epoch 35/100\n",
      "64/64 [==============================] - 6s 100ms/step - loss: 8.7982e-04 - val_loss: 0.0092\n",
      "Epoch 36/100\n",
      "64/64 [==============================] - 6s 99ms/step - loss: 6.4626e-04 - val_loss: 0.0100\n",
      "Epoch 37/100\n",
      "64/64 [==============================] - 6s 100ms/step - loss: 8.2818e-04 - val_loss: 0.0088\n",
      "Epoch 38/100\n",
      "64/64 [==============================] - 6s 101ms/step - loss: 7.6454e-04 - val_loss: 0.0095\n",
      "Epoch 39/100\n",
      "64/64 [==============================] - 7s 106ms/step - loss: 7.0572e-04 - val_loss: 0.0084\n",
      "Epoch 40/100\n",
      "64/64 [==============================] - 6s 99ms/step - loss: 7.8599e-04 - val_loss: 0.0088\n",
      "Epoch 41/100\n",
      "64/64 [==============================] - 6s 99ms/step - loss: 7.1089e-04 - val_loss: 0.0090\n",
      "Epoch 42/100\n",
      "64/64 [==============================] - 6s 99ms/step - loss: 8.3547e-04 - val_loss: 0.0093\n",
      "Epoch 43/100\n",
      "64/64 [==============================] - 6s 99ms/step - loss: 7.7441e-04 - val_loss: 0.0099\n",
      "Epoch 44/100\n",
      "64/64 [==============================] - 6s 99ms/step - loss: 7.3069e-04 - val_loss: 0.0085\n",
      "Epoch 45/100\n",
      "64/64 [==============================] - 6s 100ms/step - loss: 6.5042e-04 - val_loss: 0.0106\n",
      "Epoch 46/100\n",
      "64/64 [==============================] - 6s 100ms/step - loss: 7.6360e-04 - val_loss: 0.0095\n",
      "Epoch 47/100\n",
      "64/64 [==============================] - 6s 101ms/step - loss: 6.8740e-04 - val_loss: 0.0094\n",
      "Epoch 48/100\n",
      "64/64 [==============================] - 6s 100ms/step - loss: 7.7480e-04 - val_loss: 0.0116\n",
      "Epoch 49/100\n",
      "64/64 [==============================] - 6s 100ms/step - loss: 8.6088e-04 - val_loss: 0.0093\n",
      "Epoch 50/100\n",
      "64/64 [==============================] - 6s 101ms/step - loss: 6.3114e-04 - val_loss: 0.0083\n",
      "Epoch 51/100\n",
      "64/64 [==============================] - 6s 101ms/step - loss: 6.6670e-04 - val_loss: 0.0083\n",
      "Epoch 52/100\n",
      "64/64 [==============================] - 7s 102ms/step - loss: 9.2636e-04 - val_loss: 0.0109\n",
      "Epoch 53/100\n",
      "64/64 [==============================] - 6s 100ms/step - loss: 6.5012e-04 - val_loss: 0.0150\n",
      "Epoch 54/100\n",
      "64/64 [==============================] - 6s 99ms/step - loss: 0.0017 - val_loss: 0.0092\n",
      "Epoch 55/100\n",
      "64/64 [==============================] - 6s 100ms/step - loss: 6.3423e-04 - val_loss: 0.0114\n",
      "Epoch 56/100\n",
      "64/64 [==============================] - 6s 100ms/step - loss: 7.1635e-04 - val_loss: 0.0090\n",
      "Epoch 57/100\n",
      "64/64 [==============================] - 6s 99ms/step - loss: 8.9444e-04 - val_loss: 0.0083\n",
      "Epoch 58/100\n",
      "64/64 [==============================] - 6s 99ms/step - loss: 7.7289e-04 - val_loss: 0.0100\n",
      "Epoch 59/100\n",
      "64/64 [==============================] - 6s 101ms/step - loss: 6.8610e-04 - val_loss: 0.0084\n",
      "Epoch 60/100\n",
      "64/64 [==============================] - 7s 109ms/step - loss: 5.9329e-04 - val_loss: 0.0101\n",
      "Epoch 61/100\n",
      "64/64 [==============================] - 6s 101ms/step - loss: 7.1461e-04 - val_loss: 0.0083\n",
      "Epoch 62/100\n",
      "64/64 [==============================] - 6s 100ms/step - loss: 7.0522e-04 - val_loss: 0.0095\n",
      "Epoch 63/100\n",
      "64/64 [==============================] - 6s 100ms/step - loss: 6.4269e-04 - val_loss: 0.0091\n",
      "Epoch 64/100\n",
      "64/64 [==============================] - 6s 100ms/step - loss: 6.2106e-04 - val_loss: 0.0102\n",
      "Epoch 65/100\n",
      "64/64 [==============================] - 6s 100ms/step - loss: 7.6659e-04 - val_loss: 0.0081\n",
      "Epoch 66/100\n",
      "64/64 [==============================] - 6s 101ms/step - loss: 7.8575e-04 - val_loss: 0.0117\n",
      "Epoch 67/100\n",
      "64/64 [==============================] - 6s 100ms/step - loss: 9.1420e-04 - val_loss: 0.0083\n",
      "Epoch 68/100\n",
      "64/64 [==============================] - 6s 100ms/step - loss: 6.2857e-04 - val_loss: 0.0095\n",
      "Epoch 69/100\n",
      "64/64 [==============================] - 7s 102ms/step - loss: 6.6721e-04 - val_loss: 0.0084\n",
      "Epoch 70/100\n",
      "64/64 [==============================] - 7s 104ms/step - loss: 5.9803e-04 - val_loss: 0.0083\n",
      "Epoch 71/100\n",
      "64/64 [==============================] - 7s 106ms/step - loss: 5.5814e-04 - val_loss: 0.0087\n",
      "Epoch 72/100\n",
      "64/64 [==============================] - 6s 100ms/step - loss: 5.7899e-04 - val_loss: 0.0133\n",
      "Epoch 73/100\n",
      "64/64 [==============================] - 6s 100ms/step - loss: 6.3191e-04 - val_loss: 0.0096\n",
      "Epoch 74/100\n",
      "64/64 [==============================] - 6s 100ms/step - loss: 5.3593e-04 - val_loss: 0.0083\n",
      "Epoch 75/100\n",
      "64/64 [==============================] - 6s 100ms/step - loss: 6.1922e-04 - val_loss: 0.0090\n",
      "Epoch 76/100\n",
      "64/64 [==============================] - 6s 100ms/step - loss: 6.2716e-04 - val_loss: 0.0084\n",
      "Epoch 77/100\n",
      "64/64 [==============================] - 6s 100ms/step - loss: 7.3274e-04 - val_loss: 0.0099\n",
      "Epoch 78/100\n",
      "64/64 [==============================] - 6s 100ms/step - loss: 6.4361e-04 - val_loss: 0.0083\n",
      "Epoch 79/100\n"
     ]
    },
    {
     "name": "stdout",
     "output_type": "stream",
     "text": [
      "64/64 [==============================] - 6s 98ms/step - loss: 6.3156e-04 - val_loss: 0.0091\n",
      "Epoch 80/100\n",
      "64/64 [==============================] - 7s 110ms/step - loss: 6.8891e-04 - val_loss: 0.0092\n",
      "Epoch 81/100\n",
      "64/64 [==============================] - 7s 106ms/step - loss: 6.6299e-04 - val_loss: 0.0085\n",
      "Epoch 82/100\n",
      "64/64 [==============================] - 7s 111ms/step - loss: 5.8017e-04 - val_loss: 0.0085\n",
      "Epoch 83/100\n",
      "64/64 [==============================] - 7s 106ms/step - loss: 5.4202e-04 - val_loss: 0.0085\n",
      "Epoch 84/100\n",
      "64/64 [==============================] - 7s 103ms/step - loss: 6.4950e-04 - val_loss: 0.0085\n",
      "Epoch 85/100\n",
      "64/64 [==============================] - 7s 105ms/step - loss: 5.1780e-04 - val_loss: 0.0084\n",
      "Epoch 86/100\n",
      "64/64 [==============================] - 7s 105ms/step - loss: 4.9243e-04 - val_loss: 0.0083\n",
      "Epoch 87/100\n",
      "64/64 [==============================] - 6s 101ms/step - loss: 7.3377e-04 - val_loss: 0.0083\n",
      "Epoch 88/100\n",
      "64/64 [==============================] - 7s 105ms/step - loss: 6.2589e-04 - val_loss: 0.0086\n",
      "Epoch 89/100\n",
      "64/64 [==============================] - 7s 102ms/step - loss: 6.5422e-04 - val_loss: 0.0093\n",
      "Epoch 90/100\n",
      "64/64 [==============================] - 7s 103ms/step - loss: 9.2525e-04 - val_loss: 0.0082\n",
      "Epoch 91/100\n",
      "64/64 [==============================] - 7s 103ms/step - loss: 5.9217e-04 - val_loss: 0.0104\n",
      "Epoch 92/100\n",
      "64/64 [==============================] - 6s 101ms/step - loss: 6.2737e-04 - val_loss: 0.0085\n",
      "Epoch 93/100\n",
      "64/64 [==============================] - 6s 99ms/step - loss: 5.1309e-04 - val_loss: 0.0091\n",
      "Epoch 94/100\n",
      "64/64 [==============================] - 6s 99ms/step - loss: 5.8111e-04 - val_loss: 0.0100\n",
      "Epoch 95/100\n",
      "64/64 [==============================] - 6s 99ms/step - loss: 6.0673e-04 - val_loss: 0.0083\n",
      "Epoch 96/100\n",
      "64/64 [==============================] - 6s 99ms/step - loss: 5.5795e-04 - val_loss: 0.0092\n",
      "Epoch 97/100\n",
      "64/64 [==============================] - 6s 101ms/step - loss: 6.6293e-04 - val_loss: 0.0084\n",
      "Epoch 98/100\n",
      "64/64 [==============================] - 6s 101ms/step - loss: 6.2007e-04 - val_loss: 0.0088\n",
      "Epoch 99/100\n",
      "64/64 [==============================] - 6s 100ms/step - loss: 5.0357e-04 - val_loss: 0.0088\n",
      "Epoch 100/100\n",
      "64/64 [==============================] - 6s 100ms/step - loss: 6.2378e-04 - val_loss: 0.0093\n"
     ]
    }
   ],
   "source": [
    "model.compile(optimizer = 'adam', loss = 'mean_squared_error')  \n",
    "history = model.fit(x_train, y_train, validation_data= (x_val, y_val),\n",
    "                    epochs = 100, batch_size = 32)  \n",
    "\n",
    "model.save('BTC_price_v1.h5') "
   ]
  },
  {
   "cell_type": "code",
   "execution_count": 16,
   "metadata": {},
   "outputs": [
    {
     "data": {
      "image/png": "[encoded data removed]",
      "text/plain": [
       "<Figure size 432x288 with 1 Axes>"
      ]
     },
     "metadata": {
      "needs_background": "light"
     },
     "output_type": "display_data"
    }
   ],
   "source": [
    "plot_loss_hist(history)"
   ]
  },
  {
   "cell_type": "markdown",
   "metadata": {},
   "source": [
    "## Testing our LSTM\n",
    "Having trained the model, we will pass on to testing the performance of by predicting the opening prices for the validation and test datasets. \n",
    "\n",
    "As we did with the training data, we need to convert our test data in the right format."
   ]
  },
  {
   "cell_type": "code",
   "execution_count": 160,
   "metadata": {},
   "outputs": [
    {
     "name": "stdout",
     "output_type": "stream",
     "text": [
      "(110, 7) (74, 7)\n"
     ]
    }
   ],
   "source": [
    "print(df_val.shape,df_test.shape)"
   ]
  },
  {
   "cell_type": "code",
   "execution_count": 28,
   "metadata": {},
   "outputs": [
    {
     "data": {
      "text/html": [
       "<div>\n",
       "<style scoped>\n",
       "    .dataframe tbody tr th:only-of-type {\n",
       "        vertical-align: middle;\n",
       "    }\n",
       "\n",
       "    .dataframe tbody tr th {\n",
       "        vertical-align: top;\n",
       "    }\n",
       "\n",
       "    .dataframe thead th {\n",
       "        text-align: right;\n",
       "    }\n",
       "</style>\n",
       "<table border=\"1\" class=\"dataframe\">\n",
       "  <thead>\n",
       "    <tr style=\"text-align: right;\">\n",
       "      <th></th>\n",
       "      <th>Date</th>\n",
       "      <th>Adj Close</th>\n",
       "    </tr>\n",
       "  </thead>\n",
       "  <tbody>\n",
       "    <tr>\n",
       "      <th>2262</th>\n",
       "      <td>2020-11-30</td>\n",
       "      <td>19625.835938</td>\n",
       "    </tr>\n",
       "    <tr>\n",
       "      <th>2263</th>\n",
       "      <td>2020-12-01</td>\n",
       "      <td>18802.998047</td>\n",
       "    </tr>\n",
       "    <tr>\n",
       "      <th>2264</th>\n",
       "      <td>2020-12-02</td>\n",
       "      <td>19201.091797</td>\n",
       "    </tr>\n",
       "    <tr>\n",
       "      <th>2265</th>\n",
       "      <td>2020-12-03</td>\n",
       "      <td>19445.398438</td>\n",
       "    </tr>\n",
       "    <tr>\n",
       "      <th>2266</th>\n",
       "      <td>2020-12-04</td>\n",
       "      <td>18699.765625</td>\n",
       "    </tr>\n",
       "  </tbody>\n",
       "</table>\n",
       "</div>"
      ],
      "text/plain": [
       "           Date     Adj Close\n",
       "2262 2020-11-30  19625.835938\n",
       "2263 2020-12-01  18802.998047\n",
       "2264 2020-12-02  19201.091797\n",
       "2265 2020-12-03  19445.398438\n",
       "2266 2020-12-04  18699.765625"
      ]
     },
     "execution_count": 28,
     "metadata": {},
     "output_type": "execute_result"
    }
   ],
   "source": [
    "df_tst = pd.concat((df_val[['Date','Adj Close']], df_test[['Date','Adj Close']]), axis=0)  \n",
    "df_tst.tail()"
   ]
  },
  {
   "cell_type": "code",
   "execution_count": 29,
   "metadata": {
    "colab": {
     "base_uri": "https://localhost:8080/",
     "height": 402
    },
    "id": "rf77a4phvykq",
    "outputId": "9b2ff49e-7d58-416c-c822-17021a672047"
   },
   "outputs": [],
   "source": [
    "# df_tst = pd.concat((df_val.iloc[:, 0:2], df_test.iloc[:, 0:2]), axis=0)  \n",
    "# df_tst.tail()"
   ]
  },
  {
   "cell_type": "code",
   "execution_count": 30,
   "metadata": {},
   "outputs": [],
   "source": [
    "# df_tst1 = df_tst.iloc[:,0:2]\n",
    "# df_tst1[:4]"
   ]
  },
  {
   "cell_type": "code",
   "execution_count": 34,
   "metadata": {
    "colab": {
     "base_uri": "https://localhost:8080/"
    },
    "id": "5sfmW7KnwapP",
    "outputId": "8a8058f5-2896-4faf-894a-f91ef87d4628"
   },
   "outputs": [],
   "source": [
    "df_tst2 = scaler.fit_transform(df_tst[['Adj Close']]) "
   ]
  },
  {
   "cell_type": "code",
   "execution_count": 35,
   "metadata": {
    "colab": {
     "base_uri": "https://localhost:8080/"
    },
    "id": "Ocglt0yzwvth",
    "outputId": "fa9c51d8-3c76-42b7-8402-6ad56b19d384"
   },
   "outputs": [
    {
     "data": {
      "text/plain": [
       "(125, 60, 1)"
      ]
     },
     "execution_count": 35,
     "metadata": {},
     "output_type": "execute_result"
    }
   ],
   "source": [
    "test_features = []  \n",
    "for i in range( 60, len(df_tst2)+1 ):  \n",
    "    test_features.append(df_tst2[i-60:i])\n",
    "\n",
    "test_features = np.array(test_features)   \n",
    "test_features = np.reshape(test_features, (test_features.shape[0], test_features.shape[1], 1)) \n",
    "test_features.shape"
   ]
  },
  {
   "cell_type": "markdown",
   "metadata": {},
   "source": [
    "Now we make predictions by calling the `predict()` method on the `model` that we trained."
   ]
  },
  {
   "cell_type": "code",
   "execution_count": 36,
   "metadata": {
    "colab": {
     "base_uri": "https://localhost:8080/"
    },
    "id": "lr0aj8TJxL1O",
    "outputId": "55435106-4747-4afe-c7b8-b2b965845f42"
   },
   "outputs": [
    {
     "name": "stdout",
     "output_type": "stream",
     "text": [
      "(125, 1)\n"
     ]
    },
    {
     "data": {
      "text/plain": [
       "array([[0.20715652],\n",
       "       [0.22910786],\n",
       "       [0.2461066 ],\n",
       "       [0.24517462],\n",
       "       [0.24842803]], dtype=float32)"
      ]
     },
     "execution_count": 36,
     "metadata": {},
     "output_type": "execute_result"
    }
   ],
   "source": [
    "pred = model.predict(test_features)  \n",
    "print(pred.shape)\n",
    "pred[5:10]"
   ]
  },
  {
   "cell_type": "markdown",
   "metadata": {},
   "source": [
    "Finally, we reverse the scaled predictions back to their actual values by using the `ìnverse_transform` method of the `scaler` object we created during the training."
   ]
  },
  {
   "cell_type": "code",
   "execution_count": 37,
   "metadata": {
    "colab": {
     "base_uri": "https://localhost:8080/"
    },
    "id": "Jk5Sbzjqxa75",
    "outputId": "9481e603-43b2-4db8-85aa-a92bb349b1b2"
   },
   "outputs": [
    {
     "data": {
      "text/plain": [
       "array([[11237.199],\n",
       "       [11469.454],\n",
       "       [11649.309],\n",
       "       [11639.447],\n",
       "       [11673.869]], dtype=float32)"
      ]
     },
     "execution_count": 37,
     "metadata": {},
     "output_type": "execute_result"
    }
   ],
   "source": [
    "pred = scaler.inverse_transform(pred) \n",
    "pred_df = pd.DataFrame(pred, columns =['Predict']) \n",
    "pred[5:10]"
   ]
  },
  {
   "cell_type": "code",
   "execution_count": 38,
   "metadata": {
    "colab": {
     "base_uri": "https://localhost:8080/",
     "height": 402
    },
    "id": "InCiGmjFzXDk",
    "outputId": "1542570e-ae58-43a4-c348-eb1fd12f3c7b",
    "scrolled": true
   },
   "outputs": [
    {
     "data": {
      "text/html": [
       "<div>\n",
       "<style scoped>\n",
       "    .dataframe tbody tr th:only-of-type {\n",
       "        vertical-align: middle;\n",
       "    }\n",
       "\n",
       "    .dataframe tbody tr th {\n",
       "        vertical-align: top;\n",
       "    }\n",
       "\n",
       "    .dataframe thead th {\n",
       "        text-align: right;\n",
       "    }\n",
       "</style>\n",
       "<table border=\"1\" class=\"dataframe\">\n",
       "  <thead>\n",
       "    <tr style=\"text-align: right;\">\n",
       "      <th></th>\n",
       "      <th>Date</th>\n",
       "      <th>Actual</th>\n",
       "      <th>Predict</th>\n",
       "    </tr>\n",
       "  </thead>\n",
       "  <tbody>\n",
       "    <tr>\n",
       "      <th>0</th>\n",
       "      <td>2020-07-31</td>\n",
       "      <td>11323.466797</td>\n",
       "      <td>11017.541016</td>\n",
       "    </tr>\n",
       "    <tr>\n",
       "      <th>1</th>\n",
       "      <td>2020-08-01</td>\n",
       "      <td>11759.592773</td>\n",
       "      <td>11166.635742</td>\n",
       "    </tr>\n",
       "    <tr>\n",
       "      <th>2</th>\n",
       "      <td>2020-08-02</td>\n",
       "      <td>11053.614258</td>\n",
       "      <td>11463.000000</td>\n",
       "    </tr>\n",
       "    <tr>\n",
       "      <th>3</th>\n",
       "      <td>2020-08-03</td>\n",
       "      <td>11246.348633</td>\n",
       "      <td>11325.675781</td>\n",
       "    </tr>\n",
       "    <tr>\n",
       "      <th>4</th>\n",
       "      <td>2020-08-04</td>\n",
       "      <td>11205.892578</td>\n",
       "      <td>11265.573242</td>\n",
       "    </tr>\n",
       "    <tr>\n",
       "      <th>...</th>\n",
       "      <td>...</td>\n",
       "      <td>...</td>\n",
       "      <td>...</td>\n",
       "    </tr>\n",
       "    <tr>\n",
       "      <th>120</th>\n",
       "      <td>2020-12-01</td>\n",
       "      <td>18802.998047</td>\n",
       "      <td>18947.154297</td>\n",
       "    </tr>\n",
       "    <tr>\n",
       "      <th>121</th>\n",
       "      <td>2020-12-02</td>\n",
       "      <td>19201.091797</td>\n",
       "      <td>17887.240234</td>\n",
       "    </tr>\n",
       "    <tr>\n",
       "      <th>122</th>\n",
       "      <td>2020-12-03</td>\n",
       "      <td>19445.398438</td>\n",
       "      <td>18606.724609</td>\n",
       "    </tr>\n",
       "    <tr>\n",
       "      <th>123</th>\n",
       "      <td>2020-12-04</td>\n",
       "      <td>18699.765625</td>\n",
       "      <td>18712.884766</td>\n",
       "    </tr>\n",
       "    <tr>\n",
       "      <th>124</th>\n",
       "      <td>2020-12-05</td>\n",
       "      <td>NaN</td>\n",
       "      <td>18051.783203</td>\n",
       "    </tr>\n",
       "  </tbody>\n",
       "</table>\n",
       "<p>125 rows × 3 columns</p>\n",
       "</div>"
      ],
      "text/plain": [
       "          Date        Actual       Predict\n",
       "0   2020-07-31  11323.466797  11017.541016\n",
       "1   2020-08-01  11759.592773  11166.635742\n",
       "2   2020-08-02  11053.614258  11463.000000\n",
       "3   2020-08-03  11246.348633  11325.675781\n",
       "4   2020-08-04  11205.892578  11265.573242\n",
       "..         ...           ...           ...\n",
       "120 2020-12-01  18802.998047  18947.154297\n",
       "121 2020-12-02  19201.091797  17887.240234\n",
       "122 2020-12-03  19445.398438  18606.724609\n",
       "123 2020-12-04  18699.765625  18712.884766\n",
       "124 2020-12-05           NaN  18051.783203\n",
       "\n",
       "[125 rows x 3 columns]"
      ]
     },
     "execution_count": 38,
     "metadata": {},
     "output_type": "execute_result"
    }
   ],
   "source": [
    "df_tst1 = df_tst.iloc[60:len(df_tst), 0:2]\n",
    "df_tst1 = df_tst1.rename(index = lambda x: x - df_tst1.index[0]) \n",
    "\n",
    "next_date = df_tst.iloc[len(df_tst)-1:len(df_tst), 0] + pd.to_timedelta(1,unit='d')\n",
    "next_date.values[0]\n",
    "\n",
    "df_tst1.loc[len(df_tst1.index)] = [ next_date.values[0], np.nan]  \n",
    "\n",
    "df_tst2 = pd.concat((df_tst1, pred_df), axis=1)  \n",
    "df_tst2.columns = ['Date', 'Actual', 'Predict']\n",
    "df_tst2"
   ]
  },
  {
   "cell_type": "code",
   "execution_count": 39,
   "metadata": {
    "colab": {
     "base_uri": "https://localhost:8080/",
     "height": 404
    },
    "id": "-_GbNQy-1H9V",
    "outputId": "36b2ce6a-fe73-486d-95e5-3e5abc5d3fc3",
    "scrolled": true
   },
   "outputs": [
    {
     "data": {
      "image/png": "[encoded data removed]",
      "text/plain": [
       "<Figure size 720x432 with 1 Axes>"
      ]
     },
     "metadata": {
      "needs_background": "light"
     },
     "output_type": "display_data"
    }
   ],
   "source": [
    "plt.figure(figsize=(10,6))  \n",
    "plt.plot(df_tst2['Date'], df_tst2['Actual'], 'b', label='Actual BTC Price')  \n",
    "plt.plot(df_tst2['Date'], df_tst2['Predict'], 'r', label='Predicted BTC Price')  \n",
    "plt.title('Stock Price Prediction')  \n",
    "plt.xlabel('Date')  \n",
    "plt.ylabel('BTC Price')  \n",
    "plt.legend()  \n",
    "plt.show()  "
   ]
  },
  {
   "cell_type": "code",
   "execution_count": 40,
   "metadata": {
    "colab": {
     "base_uri": "https://localhost:8080/"
    },
    "id": "sC47E6K-2S8m",
    "outputId": "6af22b4e-4d27-4925-cfc8-455b1fa4ba7b"
   },
   "outputs": [
    {
     "name": "stdout",
     "output_type": "stream",
     "text": [
      "Test Score: 494.31 RMSE\n"
     ]
    }
   ],
   "source": [
    "df_tst4 = df_tst2.iloc[0:len(df_tst2)-1,] \n",
    "df_tst4\n",
    "\n",
    "testScore = mean_squared_error(df_tst4['Actual'], df_tst4['Predict'], \n",
    "                               squared=False)\n",
    "print(\"Test Score: %.2f RMSE\" % (testScore))"
   ]
  },
  {
   "cell_type": "markdown",
   "metadata": {},
   "source": [
    "We will now perform the same analysis but add the RSI index (T-1) as input."
   ]
  },
  {
   "cell_type": "markdown",
   "metadata": {
    "id": "_Lwv-b9kC8yH"
   },
   "source": [
    "# LSTM : Px_Adj & RSI"
   ]
  },
  {
   "cell_type": "code",
   "execution_count": 41,
   "metadata": {
    "colab": {
     "base_uri": "https://localhost:8080/",
     "height": 166
    },
    "id": "6KSH8mg3Dk47",
    "outputId": "e1d359ee-72f3-4114-dce7-3236d4ae4bfc"
   },
   "outputs": [
    {
     "name": "stderr",
     "output_type": "stream",
     "text": [
      "<ipython-input-41-0f6d6cdd7481>:8: SettingWithCopyWarning: \n",
      "A value is trying to be set on a copy of a slice from a DataFrame.\n",
      "Try using .loc[row_indexer,col_indexer] = value instead\n",
      "\n",
      "See the caveats in the documentation: https://pandas.pydata.org/pandas-docs/stable/user_guide/indexing.html#returning-a-view-versus-a-copy\n",
      "  df['RSI'] =  100 - (100/(1 + rs))\n"
     ]
    }
   ],
   "source": [
    "df = df_com.iloc[:,[0,5]]\n",
    "delta = df['Adj Close'].diff() \n",
    "up = delta.clip(lower=0)\n",
    "down = -1*delta.clip(upper=0)\n",
    "ema_up = up.ewm(com=13, adjust=False).mean()\n",
    "ema_down = down.ewm(com=13, adjust=False).mean()\n",
    "rs = ema_up/ema_down\n",
    "df['RSI'] =  100 - (100/(1 + rs))\n",
    "# Skip first 14 days to have real values\n",
    "df = df.iloc[15:]"
   ]
  },
  {
   "cell_type": "code",
   "execution_count": 42,
   "metadata": {},
   "outputs": [],
   "source": [
    "data = df.copy()\n",
    "data['ema_fast'] = df['Adj Close'].ewm(span=12).mean()\n",
    "data['ema_slow'] = df['Adj Close'].ewm(span=26).mean()\n",
    "data['macd'] = data.ema_fast - data.ema_slow\n",
    "data['signal'] = data.macd.ewm(span=9).mean()\n",
    "data['histograma'] = data.macd - data.signal\n",
    "\n",
    "# df['macd']= data['macd'] \n",
    "df['histo_macd']= data['histograma'] "
   ]
  },
  {
   "cell_type": "code",
   "execution_count": 43,
   "metadata": {
    "colab": {
     "base_uri": "https://localhost:8080/"
    },
    "id": "zIxnpEhpT9v6",
    "outputId": "ea1a77cd-20a4-42cc-c725-b10c528b39c4"
   },
   "outputs": [
    {
     "name": "stdout",
     "output_type": "stream",
     "text": [
      "(2066, 4)\n",
      "(110, 4)\n",
      "(74, 4)\n"
     ]
    }
   ],
   "source": [
    "df_train = df[(df['Date'] >= '2014-09-17') & (df['Date'] <= '2020-05-29')]\n",
    "df_train\n",
    "\n",
    "df_val = df[(df['Date'] >= '2020-06-01') & (df['Date'] <= '2020-09-18')]\n",
    "df_val\n",
    "df_test = df[(df['Date'] >= '2020-09-19') & (df['Date'] <= '2020-12-04')]\n",
    "print (df_train.shape)\n",
    "print (df_val.shape)\n",
    "print (df_test.shape)"
   ]
  },
  {
   "cell_type": "code",
   "execution_count": 44,
   "metadata": {},
   "outputs": [
    {
     "data": {
      "text/html": [
       "<div>\n",
       "<style scoped>\n",
       "    .dataframe tbody tr th:only-of-type {\n",
       "        vertical-align: middle;\n",
       "    }\n",
       "\n",
       "    .dataframe tbody tr th {\n",
       "        vertical-align: top;\n",
       "    }\n",
       "\n",
       "    .dataframe thead th {\n",
       "        text-align: right;\n",
       "    }\n",
       "</style>\n",
       "<table border=\"1\" class=\"dataframe\">\n",
       "  <thead>\n",
       "    <tr style=\"text-align: right;\">\n",
       "      <th></th>\n",
       "      <th>Date</th>\n",
       "      <th>Adj Close</th>\n",
       "      <th>RSI</th>\n",
       "      <th>histo_macd</th>\n",
       "    </tr>\n",
       "  </thead>\n",
       "  <tbody>\n",
       "    <tr>\n",
       "      <th>15</th>\n",
       "      <td>2014-10-02</td>\n",
       "      <td>375.071991</td>\n",
       "      <td>13.038347</td>\n",
       "      <td>0.000000</td>\n",
       "    </tr>\n",
       "    <tr>\n",
       "      <th>16</th>\n",
       "      <td>2014-10-03</td>\n",
       "      <td>359.511993</td>\n",
       "      <td>12.262814</td>\n",
       "      <td>-0.155157</td>\n",
       "    </tr>\n",
       "    <tr>\n",
       "      <th>17</th>\n",
       "      <td>2014-10-04</td>\n",
       "      <td>328.865997</td>\n",
       "      <td>10.889037</td>\n",
       "      <td>-0.708911</td>\n",
       "    </tr>\n",
       "    <tr>\n",
       "      <th>18</th>\n",
       "      <td>2014-10-05</td>\n",
       "      <td>320.510010</td>\n",
       "      <td>10.542246</td>\n",
       "      <td>-0.960246</td>\n",
       "    </tr>\n",
       "    <tr>\n",
       "      <th>19</th>\n",
       "      <td>2014-10-06</td>\n",
       "      <td>330.079010</td>\n",
       "      <td>13.923041</td>\n",
       "      <td>-0.659200</td>\n",
       "    </tr>\n",
       "  </tbody>\n",
       "</table>\n",
       "</div>"
      ],
      "text/plain": [
       "         Date   Adj Close        RSI  histo_macd\n",
       "15 2014-10-02  375.071991  13.038347    0.000000\n",
       "16 2014-10-03  359.511993  12.262814   -0.155157\n",
       "17 2014-10-04  328.865997  10.889037   -0.708911\n",
       "18 2014-10-05  320.510010  10.542246   -0.960246\n",
       "19 2014-10-06  330.079010  13.923041   -0.659200"
      ]
     },
     "execution_count": 44,
     "metadata": {},
     "output_type": "execute_result"
    }
   ],
   "source": [
    "df.head()"
   ]
  },
  {
   "cell_type": "code",
   "execution_count": 45,
   "metadata": {
    "id": "jjN4EIQaT9v7"
   },
   "outputs": [],
   "source": [
    "scaler = MinMaxScaler(feature_range = (0, 1))"
   ]
  },
  {
   "cell_type": "code",
   "execution_count": 46,
   "metadata": {
    "id": "2lZwL3KLT9v7"
   },
   "outputs": [],
   "source": [
    "time_steps = 60\n",
    "\n",
    "def to_seq(df):\n",
    "    df_sel = df.iloc[:, 1:5].values \n",
    "    df_scaled = scaler.fit_transform(df_sel)  \n",
    "\n",
    "    features_set = []  \n",
    "    labels = []  \n",
    "    for i in range(time_steps, len(df_scaled)):  \n",
    "        features_set.append(df_scaled[i-time_steps:i])\n",
    "        labels.append(df_scaled[i, 0])\n",
    "\n",
    "    features_set, labels = np.array(features_set), np.array(labels)  \n",
    "\n",
    "    features_set = np.reshape(features_set, (features_set.shape[0], features_set.shape[1], 3))  \n",
    "    return features_set,labels"
   ]
  },
  {
   "cell_type": "code",
   "execution_count": 47,
   "metadata": {
    "colab": {
     "base_uri": "https://localhost:8080/"
    },
    "id": "VgFDOcQhT9v8",
    "outputId": "80709d6f-77df-4515-c714-883dbae2f8b8"
   },
   "outputs": [
    {
     "name": "stdout",
     "output_type": "stream",
     "text": [
      "(2006, 60, 3)\n",
      "(50, 60, 3)\n"
     ]
    }
   ],
   "source": [
    "x_train, y_train = to_seq(df_train)\n",
    "x_val, y_val = to_seq(df_val)\n",
    "print(x_train.shape)\n",
    "print(x_val.shape)"
   ]
  },
  {
   "cell_type": "code",
   "execution_count": 48,
   "metadata": {
    "colab": {
     "base_uri": "https://localhost:8080/"
    },
    "id": "ttv86hUQT9v8",
    "outputId": "453dd427-de48-44f7-ad72-1114fa9f53e0"
   },
   "outputs": [
    {
     "name": "stdout",
     "output_type": "stream",
     "text": [
      "Model: \"sequential_1\"\n",
      "_________________________________________________________________\n",
      "Layer (type)                 Output Shape              Param #   \n",
      "=================================================================\n",
      "lstm_4 (LSTM)                (None, 60, 96)            38400     \n",
      "_________________________________________________________________\n",
      "dropout_4 (Dropout)          (None, 60, 96)            0         \n",
      "_________________________________________________________________\n",
      "lstm_5 (LSTM)                (None, 60, 96)            74112     \n",
      "_________________________________________________________________\n",
      "dropout_5 (Dropout)          (None, 60, 96)            0         \n",
      "_________________________________________________________________\n",
      "lstm_6 (LSTM)                (None, 60, 96)            74112     \n",
      "_________________________________________________________________\n",
      "dropout_6 (Dropout)          (None, 60, 96)            0         \n",
      "_________________________________________________________________\n",
      "lstm_7 (LSTM)                (None, 96)                74112     \n",
      "_________________________________________________________________\n",
      "dropout_7 (Dropout)          (None, 96)                0         \n",
      "_________________________________________________________________\n",
      "dense_1 (Dense)              (None, 1)                 97        \n",
      "=================================================================\n",
      "Total params: 260,833\n",
      "Trainable params: 260,833\n",
      "Non-trainable params: 0\n",
      "_________________________________________________________________\n"
     ]
    }
   ],
   "source": [
    "model = Sequential()  \n",
    "model.add(LSTM(units=96, return_sequences=True, input_shape=(time_steps, 3),unroll=False)) \n",
    "model.add(Dropout(0.2))  \n",
    "model.add(LSTM(units=96, return_sequences=True))  \n",
    "model.add(Dropout(0.2))\n",
    "\n",
    "model.add(LSTM(units=96, return_sequences=True))  \n",
    "model.add(Dropout(0.2))\n",
    "\n",
    "model.add(LSTM(units=96))  \n",
    "model.add(Dropout(0.2))  \n",
    "model.add(Dense(units = 1))  \n",
    "model.summary()"
   ]
  },
  {
   "cell_type": "code",
   "execution_count": 49,
   "metadata": {
    "colab": {
     "base_uri": "https://localhost:8080/"
    },
    "id": "OIZPThpvT9v8",
    "outputId": "d0807b04-ac1a-4439-cb9d-4dfc333d7f90"
   },
   "outputs": [
    {
     "name": "stdout",
     "output_type": "stream",
     "text": [
      "Epoch 1/100\n",
      "63/63 [==============================] - 13s 125ms/step - loss: 0.0181 - val_loss: 0.0839\n",
      "Epoch 2/100\n",
      "63/63 [==============================] - 7s 104ms/step - loss: 0.0029 - val_loss: 0.0700\n",
      "Epoch 3/100\n",
      "63/63 [==============================] - 6s 102ms/step - loss: 0.0033 - val_loss: 0.0527\n",
      "Epoch 4/100\n",
      "63/63 [==============================] - 6s 103ms/step - loss: 0.0019 - val_loss: 0.0519\n",
      "Epoch 5/100\n",
      "63/63 [==============================] - 6s 99ms/step - loss: 0.0019 - val_loss: 0.0394\n",
      "Epoch 6/100\n",
      "63/63 [==============================] - 6s 101ms/step - loss: 0.0021 - val_loss: 0.0399\n",
      "Epoch 7/100\n",
      "63/63 [==============================] - 6s 101ms/step - loss: 0.0018 - val_loss: 0.0313\n",
      "Epoch 8/100\n",
      "63/63 [==============================] - 7s 104ms/step - loss: 0.0021 - val_loss: 0.0316\n",
      "Epoch 9/100\n",
      "63/63 [==============================] - 7s 114ms/step - loss: 0.0016 - val_loss: 0.0289\n",
      "Epoch 10/100\n",
      "63/63 [==============================] - 7s 105ms/step - loss: 0.0014 - val_loss: 0.0296\n",
      "Epoch 11/100\n",
      "63/63 [==============================] - 6s 99ms/step - loss: 0.0016 - val_loss: 0.0310\n",
      "Epoch 12/100\n",
      "63/63 [==============================] - 6s 99ms/step - loss: 0.0016 - val_loss: 0.0324\n",
      "Epoch 13/100\n",
      "63/63 [==============================] - 6s 99ms/step - loss: 0.0012 - val_loss: 0.0248\n",
      "Epoch 14/100\n",
      "63/63 [==============================] - 6s 99ms/step - loss: 0.0013 - val_loss: 0.0227\n",
      "Epoch 15/100\n",
      "63/63 [==============================] - 6s 99ms/step - loss: 0.0013 - val_loss: 0.0245\n",
      "Epoch 16/100\n",
      "63/63 [==============================] - 6s 99ms/step - loss: 0.0015 - val_loss: 0.0223\n",
      "Epoch 17/100\n",
      "63/63 [==============================] - 6s 99ms/step - loss: 0.0012 - val_loss: 0.0204\n",
      "Epoch 18/100\n",
      "63/63 [==============================] - 6s 99ms/step - loss: 0.0013 - val_loss: 0.0196\n",
      "Epoch 19/100\n",
      "63/63 [==============================] - 6s 98ms/step - loss: 0.0011 - val_loss: 0.0212\n",
      "Epoch 20/100\n",
      "63/63 [==============================] - 6s 100ms/step - loss: 0.0012 - val_loss: 0.0255\n",
      "Epoch 21/100\n",
      "63/63 [==============================] - 7s 105ms/step - loss: 0.0013 - val_loss: 0.0175\n",
      "Epoch 22/100\n",
      "63/63 [==============================] - 6s 99ms/step - loss: 0.0014 - val_loss: 0.0171\n",
      "Epoch 23/100\n",
      "63/63 [==============================] - 6s 99ms/step - loss: 0.0012 - val_loss: 0.0179\n",
      "Epoch 24/100\n",
      "63/63 [==============================] - 6s 99ms/step - loss: 0.0010 - val_loss: 0.0178\n",
      "Epoch 25/100\n",
      "63/63 [==============================] - 6s 98ms/step - loss: 0.0011 - val_loss: 0.0179\n",
      "Epoch 26/100\n",
      "63/63 [==============================] - 6s 98ms/step - loss: 0.0010 - val_loss: 0.0172\n",
      "Epoch 27/100\n",
      "63/63 [==============================] - 7s 106ms/step - loss: 7.7809e-04 - val_loss: 0.0137\n",
      "Epoch 28/100\n",
      "63/63 [==============================] - 6s 102ms/step - loss: 7.4847e-04 - val_loss: 0.0161\n",
      "Epoch 29/100\n",
      "63/63 [==============================] - 7s 109ms/step - loss: 9.4458e-04 - val_loss: 0.0145\n",
      "Epoch 30/100\n",
      "63/63 [==============================] - 7s 104ms/step - loss: 9.5343e-04 - val_loss: 0.0171\n",
      "Epoch 31/100\n",
      "63/63 [==============================] - 7s 112ms/step - loss: 8.4484e-04 - val_loss: 0.0123\n",
      "Epoch 32/100\n",
      "63/63 [==============================] - 6s 103ms/step - loss: 9.6186e-04 - val_loss: 0.0131\n",
      "Epoch 33/100\n",
      "63/63 [==============================] - 6s 101ms/step - loss: 7.5235e-04 - val_loss: 0.0132\n",
      "Epoch 34/100\n",
      "63/63 [==============================] - 7s 112ms/step - loss: 0.0010 - val_loss: 0.0119\n",
      "Epoch 35/100\n",
      "63/63 [==============================] - 7s 105ms/step - loss: 8.1244e-04 - val_loss: 0.0114\n",
      "Epoch 36/100\n",
      "63/63 [==============================] - 7s 117ms/step - loss: 8.6369e-04 - val_loss: 0.0113\n",
      "Epoch 37/100\n",
      "63/63 [==============================] - 6s 99ms/step - loss: 7.2130e-04 - val_loss: 0.0118\n",
      "Epoch 38/100\n",
      "63/63 [==============================] - 6s 100ms/step - loss: 8.6397e-04 - val_loss: 0.0127\n",
      "Epoch 39/100\n",
      "63/63 [==============================] - 6s 100ms/step - loss: 9.8598e-04 - val_loss: 0.0116\n",
      "Epoch 40/100\n",
      "63/63 [==============================] - 6s 99ms/step - loss: 7.8955e-04 - val_loss: 0.0112\n",
      "Epoch 41/100\n",
      "63/63 [==============================] - 6s 99ms/step - loss: 8.5160e-04 - val_loss: 0.0102\n",
      "Epoch 42/100\n",
      "63/63 [==============================] - 6s 100ms/step - loss: 6.9975e-04 - val_loss: 0.0110\n",
      "Epoch 43/100\n",
      "63/63 [==============================] - 6s 99ms/step - loss: 7.0685e-04 - val_loss: 0.0102\n",
      "Epoch 44/100\n",
      "63/63 [==============================] - 6s 100ms/step - loss: 7.6552e-04 - val_loss: 0.0111\n",
      "Epoch 45/100\n",
      "63/63 [==============================] - 6s 102ms/step - loss: 8.5414e-04 - val_loss: 0.0153\n",
      "Epoch 46/100\n",
      "63/63 [==============================] - 6s 100ms/step - loss: 0.0011 - val_loss: 0.0143\n",
      "Epoch 47/100\n",
      "63/63 [==============================] - 6s 100ms/step - loss: 7.1250e-04 - val_loss: 0.0103\n",
      "Epoch 48/100\n",
      "63/63 [==============================] - 6s 99ms/step - loss: 6.7126e-04 - val_loss: 0.0101\n",
      "Epoch 49/100\n",
      "63/63 [==============================] - 6s 99ms/step - loss: 6.2477e-04 - val_loss: 0.0105\n",
      "Epoch 50/100\n",
      "63/63 [==============================] - 6s 100ms/step - loss: 5.8185e-04 - val_loss: 0.0112\n",
      "Epoch 51/100\n",
      "63/63 [==============================] - 6s 99ms/step - loss: 8.2449e-04 - val_loss: 0.0100\n",
      "Epoch 52/100\n",
      "63/63 [==============================] - 6s 99ms/step - loss: 7.2402e-04 - val_loss: 0.0097\n",
      "Epoch 53/100\n",
      "63/63 [==============================] - 6s 99ms/step - loss: 6.9484e-04 - val_loss: 0.0105\n",
      "Epoch 54/100\n",
      "63/63 [==============================] - 7s 105ms/step - loss: 6.7684e-04 - val_loss: 0.0095\n",
      "Epoch 55/100\n",
      "63/63 [==============================] - 6s 99ms/step - loss: 7.5392e-04 - val_loss: 0.0101\n",
      "Epoch 56/100\n",
      "63/63 [==============================] - 6s 99ms/step - loss: 5.7895e-04 - val_loss: 0.0096\n",
      "Epoch 57/100\n",
      "63/63 [==============================] - 6s 99ms/step - loss: 7.2215e-04 - val_loss: 0.0091\n",
      "Epoch 58/100\n",
      "63/63 [==============================] - 6s 99ms/step - loss: 8.5332e-04 - val_loss: 0.0096\n",
      "Epoch 59/100\n",
      "63/63 [==============================] - 6s 99ms/step - loss: 7.6962e-04 - val_loss: 0.0093\n",
      "Epoch 60/100\n",
      "63/63 [==============================] - 6s 99ms/step - loss: 7.3367e-04 - val_loss: 0.0115\n",
      "Epoch 61/100\n",
      "63/63 [==============================] - 6s 98ms/step - loss: 6.8062e-04 - val_loss: 0.0117\n",
      "Epoch 62/100\n",
      "63/63 [==============================] - 6s 99ms/step - loss: 6.8743e-04 - val_loss: 0.0099\n",
      "Epoch 63/100\n",
      "63/63 [==============================] - 6s 99ms/step - loss: 5.9129e-04 - val_loss: 0.0095\n",
      "Epoch 64/100\n",
      "63/63 [==============================] - 6s 99ms/step - loss: 9.1577e-04 - val_loss: 0.0093\n",
      "Epoch 65/100\n",
      "63/63 [==============================] - 6s 99ms/step - loss: 5.8722e-04 - val_loss: 0.0089\n",
      "Epoch 66/100\n",
      "63/63 [==============================] - 6s 99ms/step - loss: 7.2783e-04 - val_loss: 0.0092\n",
      "Epoch 67/100\n",
      "63/63 [==============================] - 6s 98ms/step - loss: 7.0867e-04 - val_loss: 0.0141\n",
      "Epoch 68/100\n",
      "63/63 [==============================] - 6s 98ms/step - loss: 6.8225e-04 - val_loss: 0.0097\n",
      "Epoch 69/100\n",
      "63/63 [==============================] - 6s 99ms/step - loss: 7.4273e-04 - val_loss: 0.0106\n",
      "Epoch 70/100\n",
      "63/63 [==============================] - 6s 98ms/step - loss: 5.5257e-04 - val_loss: 0.0100\n",
      "Epoch 71/100\n",
      "63/63 [==============================] - 6s 98ms/step - loss: 6.4881e-04 - val_loss: 0.0110\n",
      "Epoch 72/100\n",
      "63/63 [==============================] - 6s 98ms/step - loss: 5.5968e-04 - val_loss: 0.0089\n",
      "Epoch 73/100\n",
      "63/63 [==============================] - 6s 98ms/step - loss: 6.1206e-04 - val_loss: 0.0092\n",
      "Epoch 74/100\n",
      "63/63 [==============================] - 6s 98ms/step - loss: 5.9395e-04 - val_loss: 0.0101\n",
      "Epoch 75/100\n",
      "63/63 [==============================] - 6s 98ms/step - loss: 5.9652e-04 - val_loss: 0.0093\n",
      "Epoch 76/100\n",
      "63/63 [==============================] - 6s 97ms/step - loss: 6.3993e-04 - val_loss: 0.0095\n",
      "Epoch 77/100\n",
      "63/63 [==============================] - 6s 97ms/step - loss: 6.2637e-04 - val_loss: 0.0106\n",
      "Epoch 78/100\n",
      "63/63 [==============================] - 6s 98ms/step - loss: 5.6878e-04 - val_loss: 0.0087\n",
      "Epoch 79/100\n",
      "63/63 [==============================] - 6s 97ms/step - loss: 5.7692e-04 - val_loss: 0.0094\n"
     ]
    },
    {
     "name": "stdout",
     "output_type": "stream",
     "text": [
      "Epoch 80/100\n",
      "63/63 [==============================] - 6s 96ms/step - loss: 5.6316e-04 - val_loss: 0.0094\n",
      "Epoch 81/100\n",
      "63/63 [==============================] - 6s 94ms/step - loss: 6.0417e-04 - val_loss: 0.0094\n",
      "Epoch 82/100\n",
      "63/63 [==============================] - 6s 94ms/step - loss: 5.8707e-04 - val_loss: 0.0089\n",
      "Epoch 83/100\n",
      "63/63 [==============================] - 6s 98ms/step - loss: 5.6339e-04 - val_loss: 0.0104\n",
      "Epoch 84/100\n",
      "63/63 [==============================] - 6s 102ms/step - loss: 7.7041e-04 - val_loss: 0.0103\n",
      "Epoch 85/100\n",
      "63/63 [==============================] - 6s 94ms/step - loss: 7.2463e-04 - val_loss: 0.0088\n",
      "Epoch 86/100\n",
      "63/63 [==============================] - 6s 94ms/step - loss: 6.9995e-04 - val_loss: 0.0110\n",
      "Epoch 87/100\n",
      "63/63 [==============================] - 6s 94ms/step - loss: 6.0819e-04 - val_loss: 0.0096\n",
      "Epoch 88/100\n",
      "63/63 [==============================] - 6s 94ms/step - loss: 7.0983e-04 - val_loss: 0.0091\n",
      "Epoch 89/100\n",
      "63/63 [==============================] - 6s 95ms/step - loss: 5.4754e-04 - val_loss: 0.0098\n",
      "Epoch 90/100\n",
      "63/63 [==============================] - 6s 99ms/step - loss: 6.8157e-04 - val_loss: 0.0105\n",
      "Epoch 91/100\n",
      "63/63 [==============================] - 6s 95ms/step - loss: 5.2914e-04 - val_loss: 0.0102\n",
      "Epoch 92/100\n",
      "63/63 [==============================] - 6s 94ms/step - loss: 5.8823e-04 - val_loss: 0.0091\n",
      "Epoch 93/100\n",
      "63/63 [==============================] - 6s 94ms/step - loss: 4.9608e-04 - val_loss: 0.0095\n",
      "Epoch 94/100\n",
      "63/63 [==============================] - 6s 94ms/step - loss: 6.1916e-04 - val_loss: 0.0147\n",
      "Epoch 95/100\n",
      "63/63 [==============================] - 7s 108ms/step - loss: 8.5754e-04 - val_loss: 0.0098\n",
      "Epoch 96/100\n",
      "63/63 [==============================] - 6s 99ms/step - loss: 5.5289e-04 - val_loss: 0.0088\n",
      "Epoch 97/100\n",
      "63/63 [==============================] - 6s 95ms/step - loss: 5.4715e-04 - val_loss: 0.0091\n",
      "Epoch 98/100\n",
      "63/63 [==============================] - 6s 94ms/step - loss: 4.7567e-04 - val_loss: 0.0090\n",
      "Epoch 99/100\n",
      "63/63 [==============================] - 6s 94ms/step - loss: 5.6919e-04 - val_loss: 0.0093\n",
      "Epoch 100/100\n",
      "63/63 [==============================] - 6s 95ms/step - loss: 6.9666e-04 - val_loss: 0.0091\n"
     ]
    }
   ],
   "source": [
    "model.compile(optimizer = 'adam', loss = 'mean_squared_error')  \n",
    "history = model.fit(x_train, y_train, validation_data= (x_val, y_val),\n",
    "                    epochs = 100, batch_size = 32)  \n",
    "\n",
    "model.save('btc_model_rsi.h5') "
   ]
  },
  {
   "cell_type": "markdown",
   "metadata": {},
   "source": [
    "From the above, we see that our model history contains information on the training and the validation loss."
   ]
  },
  {
   "cell_type": "code",
   "execution_count": 50,
   "metadata": {},
   "outputs": [
    {
     "data": {
      "image/png": "[encoded data removed]",
      "text/plain": [
       "<Figure size 432x288 with 1 Axes>"
      ]
     },
     "metadata": {
      "needs_background": "light"
     },
     "output_type": "display_data"
    }
   ],
   "source": [
    "plot_loss_hist(history)"
   ]
  },
  {
   "cell_type": "code",
   "execution_count": 51,
   "metadata": {
    "colab": {
     "base_uri": "https://localhost:8080/",
     "height": 166
    },
    "id": "1vrJiQMHYGnx",
    "outputId": "0c4f07ae-20fb-41e2-e4e2-5e67a8831ddf"
   },
   "outputs": [
    {
     "data": {
      "text/html": [
       "<div>\n",
       "<style scoped>\n",
       "    .dataframe tbody tr th:only-of-type {\n",
       "        vertical-align: middle;\n",
       "    }\n",
       "\n",
       "    .dataframe tbody tr th {\n",
       "        vertical-align: top;\n",
       "    }\n",
       "\n",
       "    .dataframe thead th {\n",
       "        text-align: right;\n",
       "    }\n",
       "</style>\n",
       "<table border=\"1\" class=\"dataframe\">\n",
       "  <thead>\n",
       "    <tr style=\"text-align: right;\">\n",
       "      <th></th>\n",
       "      <th>Adj Close</th>\n",
       "      <th>RSI</th>\n",
       "      <th>histo_macd</th>\n",
       "    </tr>\n",
       "  </thead>\n",
       "  <tbody>\n",
       "    <tr>\n",
       "      <th>2083</th>\n",
       "      <td>10167.268555</td>\n",
       "      <td>64.339654</td>\n",
       "      <td>21.374026</td>\n",
       "    </tr>\n",
       "    <tr>\n",
       "      <th>2084</th>\n",
       "      <td>9529.803711</td>\n",
       "      <td>54.236190</td>\n",
       "      <td>6.771524</td>\n",
       "    </tr>\n",
       "    <tr>\n",
       "      <th>2085</th>\n",
       "      <td>9656.717773</td>\n",
       "      <td>55.726822</td>\n",
       "      <td>3.245412</td>\n",
       "    </tr>\n",
       "    <tr>\n",
       "      <th>2086</th>\n",
       "      <td>9800.636719</td>\n",
       "      <td>57.420541</td>\n",
       "      <td>7.924427</td>\n",
       "    </tr>\n",
       "  </tbody>\n",
       "</table>\n",
       "</div>"
      ],
      "text/plain": [
       "         Adj Close        RSI  histo_macd\n",
       "2083  10167.268555  64.339654   21.374026\n",
       "2084   9529.803711  54.236190    6.771524\n",
       "2085   9656.717773  55.726822    3.245412\n",
       "2086   9800.636719  57.420541    7.924427"
      ]
     },
     "execution_count": 51,
     "metadata": {},
     "output_type": "execute_result"
    }
   ],
   "source": [
    "df_tst = pd.concat((df_val, df_test), axis=0)  \n",
    "df_tst[:4]\n",
    "\n",
    "df_tst1 = df_tst.iloc[:, 1:4]\n",
    "df_tst1[:4]"
   ]
  },
  {
   "cell_type": "code",
   "execution_count": 61,
   "metadata": {},
   "outputs": [
    {
     "data": {
      "text/html": [
       "<div>\n",
       "<style scoped>\n",
       "    .dataframe tbody tr th:only-of-type {\n",
       "        vertical-align: middle;\n",
       "    }\n",
       "\n",
       "    .dataframe tbody tr th {\n",
       "        vertical-align: top;\n",
       "    }\n",
       "\n",
       "    .dataframe thead th {\n",
       "        text-align: right;\n",
       "    }\n",
       "</style>\n",
       "<table border=\"1\" class=\"dataframe\">\n",
       "  <thead>\n",
       "    <tr style=\"text-align: right;\">\n",
       "      <th></th>\n",
       "      <th>Date</th>\n",
       "      <th>Adj Close</th>\n",
       "      <th>RSI</th>\n",
       "      <th>histo_macd</th>\n",
       "    </tr>\n",
       "  </thead>\n",
       "  <tbody>\n",
       "    <tr>\n",
       "      <th>2083</th>\n",
       "      <td>2020-06-01</td>\n",
       "      <td>10167.268555</td>\n",
       "      <td>64.339654</td>\n",
       "      <td>21.374026</td>\n",
       "    </tr>\n",
       "    <tr>\n",
       "      <th>2084</th>\n",
       "      <td>2020-06-02</td>\n",
       "      <td>9529.803711</td>\n",
       "      <td>54.236190</td>\n",
       "      <td>6.771524</td>\n",
       "    </tr>\n",
       "    <tr>\n",
       "      <th>2085</th>\n",
       "      <td>2020-06-03</td>\n",
       "      <td>9656.717773</td>\n",
       "      <td>55.726822</td>\n",
       "      <td>3.245412</td>\n",
       "    </tr>\n",
       "    <tr>\n",
       "      <th>2086</th>\n",
       "      <td>2020-06-04</td>\n",
       "      <td>9800.636719</td>\n",
       "      <td>57.420541</td>\n",
       "      <td>7.924427</td>\n",
       "    </tr>\n",
       "    <tr>\n",
       "      <th>2087</th>\n",
       "      <td>2020-06-05</td>\n",
       "      <td>9665.533203</td>\n",
       "      <td>55.282473</td>\n",
       "      <td>-0.323649</td>\n",
       "    </tr>\n",
       "  </tbody>\n",
       "</table>\n",
       "</div>"
      ],
      "text/plain": [
       "           Date     Adj Close        RSI  histo_macd\n",
       "2083 2020-06-01  10167.268555  64.339654   21.374026\n",
       "2084 2020-06-02   9529.803711  54.236190    6.771524\n",
       "2085 2020-06-03   9656.717773  55.726822    3.245412\n",
       "2086 2020-06-04   9800.636719  57.420541    7.924427\n",
       "2087 2020-06-05   9665.533203  55.282473   -0.323649"
      ]
     },
     "execution_count": 61,
     "metadata": {},
     "output_type": "execute_result"
    }
   ],
   "source": [
    "df_tst.head()"
   ]
  },
  {
   "cell_type": "code",
   "execution_count": 52,
   "metadata": {
    "colab": {
     "base_uri": "https://localhost:8080/"
    },
    "id": "sClT5ohPYTO6",
    "outputId": "9305c5ee-20f8-4d38-dc52-6eacbd5baa32"
   },
   "outputs": [
    {
     "data": {
      "text/plain": [
       "array([[0.10603315, 0.56956984, 0.52388043],\n",
       "       [0.04578381, 0.38270974, 0.48995912],\n",
       "       [0.05777896, 0.41027847, 0.48176804],\n",
       "       [0.07138131, 0.44160322, 0.49263729]])"
      ]
     },
     "execution_count": 52,
     "metadata": {},
     "output_type": "execute_result"
    }
   ],
   "source": [
    "df_tst2 = scaler.fit_transform(df_tst1) \n",
    "df_tst2[:4]"
   ]
  },
  {
   "cell_type": "code",
   "execution_count": 53,
   "metadata": {
    "colab": {
     "base_uri": "https://localhost:8080/"
    },
    "id": "tKekcxnQYZy8",
    "outputId": "13635d80-9532-4dc3-80d0-9212ca5e33ba"
   },
   "outputs": [
    {
     "data": {
      "text/plain": [
       "(125, 60, 3)"
      ]
     },
     "execution_count": 53,
     "metadata": {},
     "output_type": "execute_result"
    }
   ],
   "source": [
    "test_features = []  \n",
    "for i in range( 60, len(df_tst2)+1 ):  \n",
    "    test_features.append(df_tst2[i-60:i])\n",
    "\n",
    "test_features = np.array(test_features)  \n",
    "test_features = np.reshape(test_features, (test_features.shape[0], \n",
    "                                           test_features.shape[1], 3)) \n",
    "test_features.shape"
   ]
  },
  {
   "cell_type": "code",
   "execution_count": 54,
   "metadata": {
    "colab": {
     "base_uri": "https://localhost:8080/"
    },
    "id": "-PCMSz3QYgq6",
    "outputId": "614cfb9b-df6c-4e27-d228-ce081a6ceeb7"
   },
   "outputs": [
    {
     "name": "stdout",
     "output_type": "stream",
     "text": [
      "(125, 1)\n"
     ]
    },
    {
     "data": {
      "text/plain": [
       "array([[11325.671],\n",
       "       [11574.834],\n",
       "       [11756.764],\n",
       "       [11685.708],\n",
       "       [11702.078]], dtype=float32)"
      ]
     },
     "execution_count": 54,
     "metadata": {},
     "output_type": "execute_result"
    }
   ],
   "source": [
    "pred = model.predict(test_features)  \n",
    "print(pred.shape)\n",
    "\n",
    "scaler.fit(df_tst1.iloc[:, [0]]) \n",
    "\n",
    "pred1 = scaler.inverse_transform(pred) \n",
    "\n",
    "pred1_df = pd.DataFrame(pred1, columns =['Predict']) \n",
    "pred1[5:10]"
   ]
  },
  {
   "cell_type": "code",
   "execution_count": 55,
   "metadata": {
    "colab": {
     "base_uri": "https://localhost:8080/",
     "height": 402
    },
    "id": "cpMJKljfY2X8",
    "outputId": "d438b01a-21f8-4951-de80-4110c0720a91"
   },
   "outputs": [
    {
     "data": {
      "text/html": [
       "<div>\n",
       "<style scoped>\n",
       "    .dataframe tbody tr th:only-of-type {\n",
       "        vertical-align: middle;\n",
       "    }\n",
       "\n",
       "    .dataframe tbody tr th {\n",
       "        vertical-align: top;\n",
       "    }\n",
       "\n",
       "    .dataframe thead th {\n",
       "        text-align: right;\n",
       "    }\n",
       "</style>\n",
       "<table border=\"1\" class=\"dataframe\">\n",
       "  <thead>\n",
       "    <tr style=\"text-align: right;\">\n",
       "      <th></th>\n",
       "      <th>Date</th>\n",
       "      <th>Adj Close</th>\n",
       "    </tr>\n",
       "  </thead>\n",
       "  <tbody>\n",
       "    <tr>\n",
       "      <th>0</th>\n",
       "      <td>2020-07-31</td>\n",
       "      <td>11323.466797</td>\n",
       "    </tr>\n",
       "    <tr>\n",
       "      <th>1</th>\n",
       "      <td>2020-08-01</td>\n",
       "      <td>11759.592773</td>\n",
       "    </tr>\n",
       "    <tr>\n",
       "      <th>2</th>\n",
       "      <td>2020-08-02</td>\n",
       "      <td>11053.614258</td>\n",
       "    </tr>\n",
       "    <tr>\n",
       "      <th>3</th>\n",
       "      <td>2020-08-03</td>\n",
       "      <td>11246.348633</td>\n",
       "    </tr>\n",
       "    <tr>\n",
       "      <th>4</th>\n",
       "      <td>2020-08-04</td>\n",
       "      <td>11205.892578</td>\n",
       "    </tr>\n",
       "    <tr>\n",
       "      <th>...</th>\n",
       "      <td>...</td>\n",
       "      <td>...</td>\n",
       "    </tr>\n",
       "    <tr>\n",
       "      <th>120</th>\n",
       "      <td>2020-12-01</td>\n",
       "      <td>18802.998047</td>\n",
       "    </tr>\n",
       "    <tr>\n",
       "      <th>121</th>\n",
       "      <td>2020-12-02</td>\n",
       "      <td>19201.091797</td>\n",
       "    </tr>\n",
       "    <tr>\n",
       "      <th>122</th>\n",
       "      <td>2020-12-03</td>\n",
       "      <td>19445.398438</td>\n",
       "    </tr>\n",
       "    <tr>\n",
       "      <th>123</th>\n",
       "      <td>2020-12-04</td>\n",
       "      <td>18699.765625</td>\n",
       "    </tr>\n",
       "    <tr>\n",
       "      <th>124</th>\n",
       "      <td>2020-12-05</td>\n",
       "      <td>NaN</td>\n",
       "    </tr>\n",
       "  </tbody>\n",
       "</table>\n",
       "<p>125 rows × 2 columns</p>\n",
       "</div>"
      ],
      "text/plain": [
       "          Date     Adj Close\n",
       "0   2020-07-31  11323.466797\n",
       "1   2020-08-01  11759.592773\n",
       "2   2020-08-02  11053.614258\n",
       "3   2020-08-03  11246.348633\n",
       "4   2020-08-04  11205.892578\n",
       "..         ...           ...\n",
       "120 2020-12-01  18802.998047\n",
       "121 2020-12-02  19201.091797\n",
       "122 2020-12-03  19445.398438\n",
       "123 2020-12-04  18699.765625\n",
       "124 2020-12-05           NaN\n",
       "\n",
       "[125 rows x 2 columns]"
      ]
     },
     "execution_count": 55,
     "metadata": {},
     "output_type": "execute_result"
    }
   ],
   "source": [
    "df_tst1 = df_tst.iloc[60:len(df_tst), 0:2]\n",
    "df_tst1 = df_tst1.rename(index = lambda x: x - df_tst1.index[0]) \n",
    "df_tst1\n",
    "next_date = df_tst.iloc[len(df_tst)-1:len(df_tst), 0] + pd.to_timedelta(1,unit='d')\n",
    "next_date.values[0]\n",
    "\n",
    "df_tst1.loc[len(df_tst1.index)] = [ next_date.values[0], np.nan]  \n",
    "df_tst1"
   ]
  },
  {
   "cell_type": "code",
   "execution_count": 56,
   "metadata": {
    "colab": {
     "base_uri": "https://localhost:8080/",
     "height": 402
    },
    "id": "0jO_18AJZL_i",
    "outputId": "83a3ed2b-b3c7-4344-f4d1-a86564ddb5d4"
   },
   "outputs": [
    {
     "data": {
      "text/html": [
       "<div>\n",
       "<style scoped>\n",
       "    .dataframe tbody tr th:only-of-type {\n",
       "        vertical-align: middle;\n",
       "    }\n",
       "\n",
       "    .dataframe tbody tr th {\n",
       "        vertical-align: top;\n",
       "    }\n",
       "\n",
       "    .dataframe thead th {\n",
       "        text-align: right;\n",
       "    }\n",
       "</style>\n",
       "<table border=\"1\" class=\"dataframe\">\n",
       "  <thead>\n",
       "    <tr style=\"text-align: right;\">\n",
       "      <th></th>\n",
       "      <th>Date</th>\n",
       "      <th>Actual</th>\n",
       "      <th>Predict</th>\n",
       "    </tr>\n",
       "  </thead>\n",
       "  <tbody>\n",
       "    <tr>\n",
       "      <th>0</th>\n",
       "      <td>2020-07-31</td>\n",
       "      <td>11323.466797</td>\n",
       "      <td>11181.060547</td>\n",
       "    </tr>\n",
       "    <tr>\n",
       "      <th>1</th>\n",
       "      <td>2020-08-01</td>\n",
       "      <td>11759.592773</td>\n",
       "      <td>11390.496094</td>\n",
       "    </tr>\n",
       "    <tr>\n",
       "      <th>2</th>\n",
       "      <td>2020-08-02</td>\n",
       "      <td>11053.614258</td>\n",
       "      <td>11743.149414</td>\n",
       "    </tr>\n",
       "    <tr>\n",
       "      <th>3</th>\n",
       "      <td>2020-08-03</td>\n",
       "      <td>11246.348633</td>\n",
       "      <td>11403.654297</td>\n",
       "    </tr>\n",
       "    <tr>\n",
       "      <th>4</th>\n",
       "      <td>2020-08-04</td>\n",
       "      <td>11205.892578</td>\n",
       "      <td>11324.873047</td>\n",
       "    </tr>\n",
       "    <tr>\n",
       "      <th>...</th>\n",
       "      <td>...</td>\n",
       "      <td>...</td>\n",
       "      <td>...</td>\n",
       "    </tr>\n",
       "    <tr>\n",
       "      <th>120</th>\n",
       "      <td>2020-12-01</td>\n",
       "      <td>18802.998047</td>\n",
       "      <td>19464.035156</td>\n",
       "    </tr>\n",
       "    <tr>\n",
       "      <th>121</th>\n",
       "      <td>2020-12-02</td>\n",
       "      <td>19201.091797</td>\n",
       "      <td>17577.648438</td>\n",
       "    </tr>\n",
       "    <tr>\n",
       "      <th>122</th>\n",
       "      <td>2020-12-03</td>\n",
       "      <td>19445.398438</td>\n",
       "      <td>18604.001953</td>\n",
       "    </tr>\n",
       "    <tr>\n",
       "      <th>123</th>\n",
       "      <td>2020-12-04</td>\n",
       "      <td>18699.765625</td>\n",
       "      <td>18854.250000</td>\n",
       "    </tr>\n",
       "    <tr>\n",
       "      <th>124</th>\n",
       "      <td>2020-12-05</td>\n",
       "      <td>NaN</td>\n",
       "      <td>17641.593750</td>\n",
       "    </tr>\n",
       "  </tbody>\n",
       "</table>\n",
       "<p>125 rows × 3 columns</p>\n",
       "</div>"
      ],
      "text/plain": [
       "          Date        Actual       Predict\n",
       "0   2020-07-31  11323.466797  11181.060547\n",
       "1   2020-08-01  11759.592773  11390.496094\n",
       "2   2020-08-02  11053.614258  11743.149414\n",
       "3   2020-08-03  11246.348633  11403.654297\n",
       "4   2020-08-04  11205.892578  11324.873047\n",
       "..         ...           ...           ...\n",
       "120 2020-12-01  18802.998047  19464.035156\n",
       "121 2020-12-02  19201.091797  17577.648438\n",
       "122 2020-12-03  19445.398438  18604.001953\n",
       "123 2020-12-04  18699.765625  18854.250000\n",
       "124 2020-12-05           NaN  17641.593750\n",
       "\n",
       "[125 rows x 3 columns]"
      ]
     },
     "execution_count": 56,
     "metadata": {},
     "output_type": "execute_result"
    }
   ],
   "source": [
    "df_tst2 = pd.concat((df_tst1, pred1_df), axis=1)  \n",
    "df_tst2.columns = ['Date', 'Actual', 'Predict']\n",
    "df_tst2"
   ]
  },
  {
   "cell_type": "code",
   "execution_count": 57,
   "metadata": {
    "colab": {
     "base_uri": "https://localhost:8080/",
     "height": 404
    },
    "id": "QrA8sckGZUng",
    "outputId": "49ee4185-28eb-42c0-9bb4-63b04fa326f8",
    "scrolled": true
   },
   "outputs": [
    {
     "data": {
      "image/png": "[encoded data removed]",
      "text/plain": [
       "<Figure size 720x432 with 1 Axes>"
      ]
     },
     "metadata": {
      "needs_background": "light"
     },
     "output_type": "display_data"
    }
   ],
   "source": [
    "plt.figure(figsize=(10,6))  \n",
    "plt.plot(df_tst2['Date'], df_tst2['Actual'], 'b', \n",
    "         label='Actual Stock Price')  \n",
    "plt.plot(df_tst2['Date'], df_tst2['Predict'], 'r', \n",
    "         label='Predicted BTC Price')  \n",
    "plt.title('Stock BTC Prediction')  \n",
    "plt.xlabel('Date')  \n",
    "plt.ylabel('BTC Price')  \n",
    "plt.legend()  \n",
    "plt.show()  "
   ]
  },
  {
   "cell_type": "code",
   "execution_count": 58,
   "metadata": {
    "colab": {
     "base_uri": "https://localhost:8080/"
    },
    "id": "oISQFL78ZdJR",
    "outputId": "ad3118a3-fa78-4757-ce31-e802351efa8f"
   },
   "outputs": [
    {
     "name": "stdout",
     "output_type": "stream",
     "text": [
      "Test Score: 474.20 RMSE\n"
     ]
    }
   ],
   "source": [
    "df_tst4 = df_tst2.iloc[0:len(df_tst2)-1,] \n",
    "df_tst4\n",
    "\n",
    "testScore = mean_squared_error(df_tst4['Actual'], \n",
    "                               df_tst4['Predict'], squared=False)\n",
    "print(\"Test Score: %.2f RMSE\" % (testScore))"
   ]
  },
  {
   "cell_type": "markdown",
   "metadata": {
    "id": "ZI81Su_v36LA"
   },
   "source": [
    " "
   ]
  }
 ],
 "metadata": {
  "colab": {
   "name": "project2.ipynb",
   "provenance": []
  },
  "kernelspec": {
   "display_name": "Python 3",
   "language": "python",
   "name": "python3"
  },
  "language_info": {
   "codemirror_mode": {
    "name": "ipython",
    "version": 3
   },
   "file_extension": ".py",
   "mimetype": "text/x-python",
   "name": "python",
   "nbconvert_exporter": "python",
   "pygments_lexer": "ipython3",
   "version": "3.8.3"
  }
 },
 "nbformat": 4,
 "nbformat_minor": 1
}
